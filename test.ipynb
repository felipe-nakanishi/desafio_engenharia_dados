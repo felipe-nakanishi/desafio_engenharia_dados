{
 "cells": [
  {
   "cell_type": "code",
   "execution_count": 1,
   "metadata": {},
   "outputs": [],
   "source": [
    "import pandas as pd\n",
    "df = pd.read_csv('associado.csv')"
   ]
  },
  {
   "cell_type": "code",
   "execution_count": 3,
   "metadata": {},
   "outputs": [],
   "source": [
    "import sqlite3\n",
    "# Create your connection.\n",
    "cnx = sqlite3.connect('associado.db')"
   ]
  },
  {
   "cell_type": "code",
   "execution_count": 4,
   "metadata": {},
   "outputs": [
    {
     "data": {
      "text/plain": [
       "199"
      ]
     },
     "execution_count": 4,
     "metadata": {},
     "output_type": "execute_result"
    }
   ],
   "source": [
    "df.to_sql('associado', index=False, con=cnx)"
   ]
  },
  {
   "cell_type": "code",
   "execution_count": 40,
   "metadata": {},
   "outputs": [
    {
     "data": {
      "text/html": [
       "<div>\n",
       "<style scoped>\n",
       "    .dataframe tbody tr th:only-of-type {\n",
       "        vertical-align: middle;\n",
       "    }\n",
       "\n",
       "    .dataframe tbody tr th {\n",
       "        vertical-align: top;\n",
       "    }\n",
       "\n",
       "    .dataframe thead th {\n",
       "        text-align: right;\n",
       "    }\n",
       "</style>\n",
       "<table border=\"1\" class=\"dataframe\">\n",
       "  <thead>\n",
       "    <tr style=\"text-align: right;\">\n",
       "      <th></th>\n",
       "      <th>id</th>\n",
       "      <th>tipo</th>\n",
       "      <th>data_criacao</th>\n",
       "      <th>id_associado</th>\n",
       "    </tr>\n",
       "  </thead>\n",
       "  <tbody>\n",
       "  </tbody>\n",
       "</table>\n",
       "</div>"
      ],
      "text/plain": [
       "Empty DataFrame\n",
       "Columns: [id, tipo, data_criacao, id_associado]\n",
       "Index: []"
      ]
     },
     "execution_count": 40,
     "metadata": {},
     "output_type": "execute_result"
    }
   ],
   "source": [
    "d = pd.read_xml('data/conta.xml')\n",
    "d[d['id'].isna()]"
   ]
  },
  {
   "cell_type": "code",
   "execution_count": 6,
   "metadata": {},
   "outputs": [
    {
     "data": {
      "text/html": [
       "<div>\n",
       "<style scoped>\n",
       "    .dataframe tbody tr th:only-of-type {\n",
       "        vertical-align: middle;\n",
       "    }\n",
       "\n",
       "    .dataframe tbody tr th {\n",
       "        vertical-align: top;\n",
       "    }\n",
       "\n",
       "    .dataframe thead th {\n",
       "        text-align: right;\n",
       "    }\n",
       "</style>\n",
       "<table border=\"1\" class=\"dataframe\">\n",
       "  <thead>\n",
       "    <tr style=\"text-align: right;\">\n",
       "      <th></th>\n",
       "      <th>id</th>\n",
       "      <th>nome</th>\n",
       "      <th>sobrenome</th>\n",
       "      <th>idade</th>\n",
       "      <th>email</th>\n",
       "    </tr>\n",
       "  </thead>\n",
       "  <tbody>\n",
       "    <tr>\n",
       "      <th>0</th>\n",
       "      <td>1</td>\n",
       "      <td>cliente1</td>\n",
       "      <td>sobrenome1</td>\n",
       "      <td>22</td>\n",
       "      <td>cliente1@email.com</td>\n",
       "    </tr>\n",
       "    <tr>\n",
       "      <th>1</th>\n",
       "      <td>2</td>\n",
       "      <td>cliente2</td>\n",
       "      <td>sobrenome2</td>\n",
       "      <td>41</td>\n",
       "      <td>cliente2@email.com</td>\n",
       "    </tr>\n",
       "    <tr>\n",
       "      <th>2</th>\n",
       "      <td>3</td>\n",
       "      <td>cliente3</td>\n",
       "      <td>sobrenome3</td>\n",
       "      <td>80</td>\n",
       "      <td>cliente3@email.com</td>\n",
       "    </tr>\n",
       "    <tr>\n",
       "      <th>3</th>\n",
       "      <td>4</td>\n",
       "      <td>cliente4</td>\n",
       "      <td>sobrenome4</td>\n",
       "      <td>48</td>\n",
       "      <td>cliente4@email.com</td>\n",
       "    </tr>\n",
       "    <tr>\n",
       "      <th>4</th>\n",
       "      <td>5</td>\n",
       "      <td>cliente5</td>\n",
       "      <td>sobrenome5</td>\n",
       "      <td>20</td>\n",
       "      <td>cliente5@email.com</td>\n",
       "    </tr>\n",
       "    <tr>\n",
       "      <th>...</th>\n",
       "      <td>...</td>\n",
       "      <td>...</td>\n",
       "      <td>...</td>\n",
       "      <td>...</td>\n",
       "      <td>...</td>\n",
       "    </tr>\n",
       "    <tr>\n",
       "      <th>194</th>\n",
       "      <td>195</td>\n",
       "      <td>cliente195</td>\n",
       "      <td>sobrenome195</td>\n",
       "      <td>39</td>\n",
       "      <td>cliente195@email.com</td>\n",
       "    </tr>\n",
       "    <tr>\n",
       "      <th>195</th>\n",
       "      <td>196</td>\n",
       "      <td>cliente196</td>\n",
       "      <td>sobrenome196</td>\n",
       "      <td>52</td>\n",
       "      <td>cliente196@email.com</td>\n",
       "    </tr>\n",
       "    <tr>\n",
       "      <th>196</th>\n",
       "      <td>197</td>\n",
       "      <td>cliente197</td>\n",
       "      <td>sobrenome197</td>\n",
       "      <td>28</td>\n",
       "      <td>cliente197@email.com</td>\n",
       "    </tr>\n",
       "    <tr>\n",
       "      <th>197</th>\n",
       "      <td>198</td>\n",
       "      <td>cliente198</td>\n",
       "      <td>sobrenome198</td>\n",
       "      <td>22</td>\n",
       "      <td>cliente198@email.com</td>\n",
       "    </tr>\n",
       "    <tr>\n",
       "      <th>198</th>\n",
       "      <td>199</td>\n",
       "      <td>cliente199</td>\n",
       "      <td>sobrenome199</td>\n",
       "      <td>57</td>\n",
       "      <td>cliente199@email.com</td>\n",
       "    </tr>\n",
       "  </tbody>\n",
       "</table>\n",
       "<p>199 rows × 5 columns</p>\n",
       "</div>"
      ],
      "text/plain": [
       "      id        nome     sobrenome  idade                 email\n",
       "0      1    cliente1    sobrenome1     22    cliente1@email.com\n",
       "1      2    cliente2    sobrenome2     41    cliente2@email.com\n",
       "2      3    cliente3    sobrenome3     80    cliente3@email.com\n",
       "3      4    cliente4    sobrenome4     48    cliente4@email.com\n",
       "4      5    cliente5    sobrenome5     20    cliente5@email.com\n",
       "..   ...         ...           ...    ...                   ...\n",
       "194  195  cliente195  sobrenome195     39  cliente195@email.com\n",
       "195  196  cliente196  sobrenome196     52  cliente196@email.com\n",
       "196  197  cliente197  sobrenome197     28  cliente197@email.com\n",
       "197  198  cliente198  sobrenome198     22  cliente198@email.com\n",
       "198  199  cliente199  sobrenome199     57  cliente199@email.com\n",
       "\n",
       "[199 rows x 5 columns]"
      ]
     },
     "execution_count": 6,
     "metadata": {},
     "output_type": "execute_result"
    }
   ],
   "source": [
    "pd.read_sql('select * from associado', con=cnx)"
   ]
  },
  {
   "cell_type": "code",
   "execution_count": 13,
   "metadata": {},
   "outputs": [],
   "source": [
    "df = pd.read_csv('cartao.csv')"
   ]
  },
  {
   "cell_type": "code",
   "execution_count": 14,
   "metadata": {},
   "outputs": [
    {
     "data": {
      "text/html": [
       "<div>\n",
       "<style scoped>\n",
       "    .dataframe tbody tr th:only-of-type {\n",
       "        vertical-align: middle;\n",
       "    }\n",
       "\n",
       "    .dataframe tbody tr th {\n",
       "        vertical-align: top;\n",
       "    }\n",
       "\n",
       "    .dataframe thead th {\n",
       "        text-align: right;\n",
       "    }\n",
       "</style>\n",
       "<table border=\"1\" class=\"dataframe\">\n",
       "  <thead>\n",
       "    <tr style=\"text-align: right;\">\n",
       "      <th></th>\n",
       "      <th>id</th>\n",
       "      <th>num_cartao</th>\n",
       "      <th>nom_impresso</th>\n",
       "      <th>id_conta</th>\n",
       "      <th>id_associado</th>\n",
       "    </tr>\n",
       "  </thead>\n",
       "  <tbody>\n",
       "    <tr>\n",
       "      <th>0</th>\n",
       "      <td>1</td>\n",
       "      <td>45362117086</td>\n",
       "      <td>NaN</td>\n",
       "      <td>33</td>\n",
       "      <td>103</td>\n",
       "    </tr>\n",
       "    <tr>\n",
       "      <th>1</th>\n",
       "      <td>2</td>\n",
       "      <td>71600523487</td>\n",
       "      <td>NaN</td>\n",
       "      <td>160</td>\n",
       "      <td>101</td>\n",
       "    </tr>\n",
       "    <tr>\n",
       "      <th>2</th>\n",
       "      <td>3</td>\n",
       "      <td>46016682819</td>\n",
       "      <td>NaN</td>\n",
       "      <td>155</td>\n",
       "      <td>60</td>\n",
       "    </tr>\n",
       "    <tr>\n",
       "      <th>3</th>\n",
       "      <td>4</td>\n",
       "      <td>67015736695</td>\n",
       "      <td>NaN</td>\n",
       "      <td>213</td>\n",
       "      <td>190</td>\n",
       "    </tr>\n",
       "    <tr>\n",
       "      <th>4</th>\n",
       "      <td>5</td>\n",
       "      <td>81192832431</td>\n",
       "      <td>NaN</td>\n",
       "      <td>40</td>\n",
       "      <td>114</td>\n",
       "    </tr>\n",
       "    <tr>\n",
       "      <th>...</th>\n",
       "      <td>...</td>\n",
       "      <td>...</td>\n",
       "      <td>...</td>\n",
       "      <td>...</td>\n",
       "      <td>...</td>\n",
       "    </tr>\n",
       "    <tr>\n",
       "      <th>283</th>\n",
       "      <td>284</td>\n",
       "      <td>73021062041</td>\n",
       "      <td>NaN</td>\n",
       "      <td>75</td>\n",
       "      <td>70</td>\n",
       "    </tr>\n",
       "    <tr>\n",
       "      <th>284</th>\n",
       "      <td>285</td>\n",
       "      <td>54150460402</td>\n",
       "      <td>NaN</td>\n",
       "      <td>185</td>\n",
       "      <td>176</td>\n",
       "    </tr>\n",
       "    <tr>\n",
       "      <th>285</th>\n",
       "      <td>286</td>\n",
       "      <td>64494953936</td>\n",
       "      <td>NaN</td>\n",
       "      <td>29</td>\n",
       "      <td>38</td>\n",
       "    </tr>\n",
       "    <tr>\n",
       "      <th>286</th>\n",
       "      <td>287</td>\n",
       "      <td>73731978965</td>\n",
       "      <td>NaN</td>\n",
       "      <td>244</td>\n",
       "      <td>1</td>\n",
       "    </tr>\n",
       "    <tr>\n",
       "      <th>287</th>\n",
       "      <td>288</td>\n",
       "      <td>47887195670</td>\n",
       "      <td>NaN</td>\n",
       "      <td>177</td>\n",
       "      <td>149</td>\n",
       "    </tr>\n",
       "  </tbody>\n",
       "</table>\n",
       "<p>288 rows × 5 columns</p>\n",
       "</div>"
      ],
      "text/plain": [
       "      id   num_cartao  nom_impresso  id_conta  id_associado\n",
       "0      1  45362117086           NaN        33           103\n",
       "1      2  71600523487           NaN       160           101\n",
       "2      3  46016682819           NaN       155            60\n",
       "3      4  67015736695           NaN       213           190\n",
       "4      5  81192832431           NaN        40           114\n",
       "..   ...          ...           ...       ...           ...\n",
       "283  284  73021062041           NaN        75            70\n",
       "284  285  54150460402           NaN       185           176\n",
       "285  286  64494953936           NaN        29            38\n",
       "286  287  73731978965           NaN       244             1\n",
       "287  288  47887195670           NaN       177           149\n",
       "\n",
       "[288 rows x 5 columns]"
      ]
     },
     "execution_count": 14,
     "metadata": {},
     "output_type": "execute_result"
    }
   ],
   "source": [
    "df"
   ]
  },
  {
   "cell_type": "code",
   "execution_count": 18,
   "metadata": {},
   "outputs": [],
   "source": [
    "df['nom_impresso'] = 'cliente' + df['id_associado'].astype(str)"
   ]
  },
  {
   "cell_type": "code",
   "execution_count": 15,
   "metadata": {},
   "outputs": [
    {
     "data": {
      "text/plain": [
       "DatetimeIndex(['2024-02-21 00:32:13.791997914',\n",
       "               '2024-06-04 04:47:17.754766557',\n",
       "               '2024-05-29 03:18:51.676915375',\n",
       "               '2024-01-23 04:23:27.469614399',\n",
       "               '2024-04-10 01:29:02.164619902',\n",
       "               '2024-05-16 02:16:08.628191751',\n",
       "               '2024-04-28 09:24:13.372573233',\n",
       "               '2024-05-23 07:25:49.797663447',\n",
       "               '2024-01-23 21:50:36.925584433',\n",
       "               '2024-03-30 22:37:57.294672656',\n",
       "               ...\n",
       "               '2024-03-11 01:59:44.134033051',\n",
       "               '2024-03-14 00:41:59.436295898',\n",
       "               '2024-04-22 13:51:43.324562987',\n",
       "               '2024-03-02 04:10:48.215906393',\n",
       "               '2024-02-06 14:19:00.537439974',\n",
       "               '2024-05-23 07:12:28.783104754',\n",
       "               '2024-01-30 11:02:21.168963521',\n",
       "               '2024-06-14 19:24:05.429246984',\n",
       "               '2024-03-27 13:58:41.096495695',\n",
       "               '2024-04-09 19:56:49.280835156'],\n",
       "              dtype='datetime64[ns]', length=288, freq=None)"
      ]
     },
     "execution_count": 15,
     "metadata": {},
     "output_type": "execute_result"
    }
   ],
   "source": [
    "import numpy as np\n",
    "# Definir o intervalo de datas\n",
    "data_inicio = '2024-01-01'\n",
    "data_fim = '2024-07-31'\n",
    "\n",
    "# Gerar timestamps aleatórios\n",
    "num_registros = 288  # Quantidade de timestamps desejada\n",
    "\n",
    "# Converter para datetime64[ns]\n",
    "start = pd.to_datetime(data_inicio)\n",
    "end = pd.to_datetime(data_fim)\n",
    "\n",
    "# Gerar timestamps aleatórios usando numpy\n",
    "random_timestamps = pd.to_datetime(\n",
    "    np.random.randint(\n",
    "        start.value,  # Valor em nanossegundos\n",
    "        end.value, \n",
    "        size=num_registros\n",
    "    )\n",
    ")\n",
    "\n",
    "# Criar DataFrame\n",
    "random_timestamps\n",
    "\n",
    "# Formatar a exibição (opcional)\n",
    "#df['timestamp_aleatorio'] = df['timestamp_aleatorio'].dt.strftime('%Y-%m-%d %H:%M:%S')"
   ]
  },
  {
   "cell_type": "code",
   "execution_count": 16,
   "metadata": {},
   "outputs": [],
   "source": [
    "df['data_criacao'] = random_timestamps\n",
    "df['data_criacao'] = df['data_criacao'].dt.strftime('%Y-%m-%d %H:%M:%S')"
   ]
  },
  {
   "cell_type": "code",
   "execution_count": 19,
   "metadata": {},
   "outputs": [],
   "source": [
    "df.to_json('cartao.json',index=False)"
   ]
  },
  {
   "cell_type": "code",
   "execution_count": 21,
   "metadata": {},
   "outputs": [],
   "source": [
    "import pandas as pd\n",
    "df = pd.read_csv('conta.csv')"
   ]
  },
  {
   "cell_type": "code",
   "execution_count": 24,
   "metadata": {},
   "outputs": [
    {
     "name": "stderr",
     "output_type": "stream",
     "text": [
      "/var/folders/8r/9lkd9b_s76n56hpgsm3jgm7c0000gn/T/ipykernel_70428/1273587469.py:1: UserWarning: Parsing dates in %d/%m/%Y format when dayfirst=False (the default) was specified. Pass `dayfirst=True` or specify a format to silence this warning.\n",
      "  df['data_criacao'] = pd.to_datetime(df['data_criacao'])\n"
     ]
    }
   ],
   "source": [
    "df['data_criacao'] = pd.to_datetime(df['data_criacao'])"
   ]
  },
  {
   "cell_type": "code",
   "execution_count": 25,
   "metadata": {},
   "outputs": [],
   "source": [
    "df.to_xml('conta.xml',index=False)"
   ]
  },
  {
   "cell_type": "code",
   "execution_count": 42,
   "metadata": {},
   "outputs": [],
   "source": [
    "df = pd.read_json('data/cartao.json')"
   ]
  },
  {
   "cell_type": "code",
   "execution_count": 45,
   "metadata": {},
   "outputs": [],
   "source": [
    "df.to_json('data/cartao.json', orient='records', indent=4,index=False)"
   ]
  },
  {
   "cell_type": "code",
   "execution_count": 57,
   "metadata": {},
   "outputs": [],
   "source": [
    "df=pd.read_parquet('data/movimento.parquet')"
   ]
  },
  {
   "cell_type": "code",
   "execution_count": 56,
   "metadata": {},
   "outputs": [],
   "source": [
    "df.to_parquet('data/movimento.parquet',index=False)"
   ]
  },
  {
   "cell_type": "code",
   "execution_count": 50,
   "metadata": {},
   "outputs": [
    {
     "data": {
      "text/html": [
       "<div>\n",
       "<style scoped>\n",
       "    .dataframe tbody tr th:only-of-type {\n",
       "        vertical-align: middle;\n",
       "    }\n",
       "\n",
       "    .dataframe tbody tr th {\n",
       "        vertical-align: top;\n",
       "    }\n",
       "\n",
       "    .dataframe thead th {\n",
       "        text-align: right;\n",
       "    }\n",
       "</style>\n",
       "<table border=\"1\" class=\"dataframe\">\n",
       "  <thead>\n",
       "    <tr style=\"text-align: right;\">\n",
       "      <th></th>\n",
       "      <th>id</th>\n",
       "      <th>vlr_transacao</th>\n",
       "      <th>des_transacao</th>\n",
       "      <th>data_movimento</th>\n",
       "      <th>id_cartao</th>\n",
       "    </tr>\n",
       "  </thead>\n",
       "  <tbody>\n",
       "    <tr>\n",
       "      <th>0</th>\n",
       "      <td>1</td>\n",
       "      <td>145</td>\n",
       "      <td>desc 1</td>\n",
       "      <td>04/01/2025 00:00:00</td>\n",
       "      <td>182</td>\n",
       "    </tr>\n",
       "    <tr>\n",
       "      <th>1</th>\n",
       "      <td>2</td>\n",
       "      <td>68</td>\n",
       "      <td>desc 2</td>\n",
       "      <td>17/02/2025 00:00:00</td>\n",
       "      <td>159</td>\n",
       "    </tr>\n",
       "    <tr>\n",
       "      <th>2</th>\n",
       "      <td>3</td>\n",
       "      <td>162</td>\n",
       "      <td>desc 3</td>\n",
       "      <td>09/02/2025 00:00:00</td>\n",
       "      <td>239</td>\n",
       "    </tr>\n",
       "    <tr>\n",
       "      <th>3</th>\n",
       "      <td>4</td>\n",
       "      <td>196</td>\n",
       "      <td>desc 4</td>\n",
       "      <td>10/01/2025 00:00:00</td>\n",
       "      <td>26</td>\n",
       "    </tr>\n",
       "    <tr>\n",
       "      <th>4</th>\n",
       "      <td>5</td>\n",
       "      <td>105</td>\n",
       "      <td>desc 1</td>\n",
       "      <td>08/01/2025 00:00:00</td>\n",
       "      <td>173</td>\n",
       "    </tr>\n",
       "    <tr>\n",
       "      <th>...</th>\n",
       "      <td>...</td>\n",
       "      <td>...</td>\n",
       "      <td>...</td>\n",
       "      <td>...</td>\n",
       "      <td>...</td>\n",
       "    </tr>\n",
       "    <tr>\n",
       "      <th>994</th>\n",
       "      <td>995</td>\n",
       "      <td>153</td>\n",
       "      <td>desc 5</td>\n",
       "      <td>30/01/2025 00:00:00</td>\n",
       "      <td>200</td>\n",
       "    </tr>\n",
       "    <tr>\n",
       "      <th>995</th>\n",
       "      <td>996</td>\n",
       "      <td>42</td>\n",
       "      <td>desc 5</td>\n",
       "      <td>08/02/2025 00:00:00</td>\n",
       "      <td>189</td>\n",
       "    </tr>\n",
       "    <tr>\n",
       "      <th>996</th>\n",
       "      <td>997</td>\n",
       "      <td>42</td>\n",
       "      <td>desc 5</td>\n",
       "      <td>22/02/2025 00:00:00</td>\n",
       "      <td>217</td>\n",
       "    </tr>\n",
       "    <tr>\n",
       "      <th>997</th>\n",
       "      <td>998</td>\n",
       "      <td>124</td>\n",
       "      <td>desc 5</td>\n",
       "      <td>05/01/2025 00:00:00</td>\n",
       "      <td>182</td>\n",
       "    </tr>\n",
       "    <tr>\n",
       "      <th>998</th>\n",
       "      <td>999</td>\n",
       "      <td>154</td>\n",
       "      <td>desc 5</td>\n",
       "      <td>11/02/2025 00:00:00</td>\n",
       "      <td>186</td>\n",
       "    </tr>\n",
       "  </tbody>\n",
       "</table>\n",
       "<p>999 rows × 5 columns</p>\n",
       "</div>"
      ],
      "text/plain": [
       "      id  vlr_transacao des_transacao       data_movimento  id_cartao\n",
       "0      1            145        desc 1  04/01/2025 00:00:00        182\n",
       "1      2             68        desc 2  17/02/2025 00:00:00        159\n",
       "2      3            162        desc 3  09/02/2025 00:00:00        239\n",
       "3      4            196        desc 4  10/01/2025 00:00:00         26\n",
       "4      5            105        desc 1  08/01/2025 00:00:00        173\n",
       "..   ...            ...           ...                  ...        ...\n",
       "994  995            153        desc 5  30/01/2025 00:00:00        200\n",
       "995  996             42        desc 5  08/02/2025 00:00:00        189\n",
       "996  997             42        desc 5  22/02/2025 00:00:00        217\n",
       "997  998            124        desc 5  05/01/2025 00:00:00        182\n",
       "998  999            154        desc 5  11/02/2025 00:00:00        186\n",
       "\n",
       "[999 rows x 5 columns]"
      ]
     },
     "execution_count": 50,
     "metadata": {},
     "output_type": "execute_result"
    }
   ],
   "source": [
    "df['id'] = df['id'].astype(int)"
   ]
  },
  {
   "cell_type": "code",
   "execution_count": 53,
   "metadata": {},
   "outputs": [],
   "source": [
    "df['vlr_transacao']=df['vlr_transacao'].astype(float)"
   ]
  },
  {
   "cell_type": "code",
   "execution_count": 55,
   "metadata": {},
   "outputs": [],
   "source": [
    "df['id_cartao']=df['id_cartao'].astype(int)"
   ]
  },
  {
   "cell_type": "code",
   "execution_count": 61,
   "metadata": {},
   "outputs": [
    {
     "data": {
      "text/html": [
       "<div><style>\n",
       ".dataframe > thead > tr,\n",
       ".dataframe > tbody > tr {\n",
       "  text-align: right;\n",
       "  white-space: pre-wrap;\n",
       "}\n",
       "</style>\n",
       "<small>shape: (999, 5)</small><table border=\"1\" class=\"dataframe\"><thead><tr><th>id</th><th>vlr_transacao</th><th>des_transacao</th><th>data_movimento</th><th>id_cartao</th></tr><tr><td>i64</td><td>f64</td><td>str</td><td>str</td><td>i64</td></tr></thead><tbody><tr><td>1</td><td>145.0</td><td>&quot;desc 1&quot;</td><td>&quot;04/01/2025 00:00:00&quot;</td><td>182</td></tr><tr><td>2</td><td>68.0</td><td>&quot;desc 2&quot;</td><td>&quot;17/02/2025 00:00:00&quot;</td><td>159</td></tr><tr><td>3</td><td>162.0</td><td>&quot;desc 3&quot;</td><td>&quot;09/02/2025 00:00:00&quot;</td><td>239</td></tr><tr><td>4</td><td>196.0</td><td>&quot;desc 4&quot;</td><td>&quot;10/01/2025 00:00:00&quot;</td><td>26</td></tr><tr><td>5</td><td>105.0</td><td>&quot;desc 1&quot;</td><td>&quot;08/01/2025 00:00:00&quot;</td><td>173</td></tr><tr><td>&hellip;</td><td>&hellip;</td><td>&hellip;</td><td>&hellip;</td><td>&hellip;</td></tr><tr><td>995</td><td>153.0</td><td>&quot;desc 5&quot;</td><td>&quot;30/01/2025 00:00:00&quot;</td><td>200</td></tr><tr><td>996</td><td>42.0</td><td>&quot;desc 5&quot;</td><td>&quot;08/02/2025 00:00:00&quot;</td><td>189</td></tr><tr><td>997</td><td>42.0</td><td>&quot;desc 5&quot;</td><td>&quot;22/02/2025 00:00:00&quot;</td><td>217</td></tr><tr><td>998</td><td>124.0</td><td>&quot;desc 5&quot;</td><td>&quot;05/01/2025 00:00:00&quot;</td><td>182</td></tr><tr><td>999</td><td>154.0</td><td>&quot;desc 5&quot;</td><td>&quot;11/02/2025 00:00:00&quot;</td><td>186</td></tr></tbody></table></div>"
      ],
      "text/plain": [
       "shape: (999, 5)\n",
       "┌─────┬───────────────┬───────────────┬─────────────────────┬───────────┐\n",
       "│ id  ┆ vlr_transacao ┆ des_transacao ┆ data_movimento      ┆ id_cartao │\n",
       "│ --- ┆ ---           ┆ ---           ┆ ---                 ┆ ---       │\n",
       "│ i64 ┆ f64           ┆ str           ┆ str                 ┆ i64       │\n",
       "╞═════╪═══════════════╪═══════════════╪═════════════════════╪═══════════╡\n",
       "│ 1   ┆ 145.0         ┆ desc 1        ┆ 04/01/2025 00:00:00 ┆ 182       │\n",
       "│ 2   ┆ 68.0          ┆ desc 2        ┆ 17/02/2025 00:00:00 ┆ 159       │\n",
       "│ 3   ┆ 162.0         ┆ desc 3        ┆ 09/02/2025 00:00:00 ┆ 239       │\n",
       "│ 4   ┆ 196.0         ┆ desc 4        ┆ 10/01/2025 00:00:00 ┆ 26        │\n",
       "│ 5   ┆ 105.0         ┆ desc 1        ┆ 08/01/2025 00:00:00 ┆ 173       │\n",
       "│ …   ┆ …             ┆ …             ┆ …                   ┆ …         │\n",
       "│ 995 ┆ 153.0         ┆ desc 5        ┆ 30/01/2025 00:00:00 ┆ 200       │\n",
       "│ 996 ┆ 42.0          ┆ desc 5        ┆ 08/02/2025 00:00:00 ┆ 189       │\n",
       "│ 997 ┆ 42.0          ┆ desc 5        ┆ 22/02/2025 00:00:00 ┆ 217       │\n",
       "│ 998 ┆ 124.0         ┆ desc 5        ┆ 05/01/2025 00:00:00 ┆ 182       │\n",
       "│ 999 ┆ 154.0         ┆ desc 5        ┆ 11/02/2025 00:00:00 ┆ 186       │\n",
       "└─────┴───────────────┴───────────────┴─────────────────────┴───────────┘"
      ]
     },
     "execution_count": 61,
     "metadata": {},
     "output_type": "execute_result"
    }
   ],
   "source": [
    "import polars as pl\n",
    "pl.read_parquet('data/movimento.parquet')"
   ]
  },
  {
   "cell_type": "code",
   "execution_count": 65,
   "metadata": {},
   "outputs": [],
   "source": [
    "df = pd.read_csv('data/associado.csv')"
   ]
  },
  {
   "cell_type": "code",
   "execution_count": null,
   "metadata": {},
   "outputs": [],
   "source": [
    "pd.read_xml('data/conta.xml')"
   ]
  },
  {
   "cell_type": "code",
   "execution_count": 36,
   "metadata": {},
   "outputs": [
    {
     "name": "stdout",
     "output_type": "stream",
     "text": [
      "\"<?xml version='1.0' encoding='utf-8'?>\\n\"\n",
      "'<data>\\n'\n",
      "'  <row>\\n'\n",
      "'    <id>1</id>\\n'\n",
      "'    <tipo>empresarial</tipo>\\n'\n"
     ]
    }
   ],
   "source": [
    "import pandas as pd\n",
    "with open(\"data/conta.xml\", \"r\", encoding=\"utf-8\") as f:\n",
    "    first_lines = f.readlines()[:5]  # Lê as primeiras 5 linhas\n",
    "    for line in first_lines:\n",
    "        print(repr(line))  # Mostra caracteres ocultos\n"
   ]
  },
  {
   "cell_type": "code",
   "execution_count": 26,
   "metadata": {},
   "outputs": [],
   "source": [
    "import psycopg2\n",
    "\n",
    "# Conexão ao postgresql:\n",
    "conn = psycopg2.connect(\n",
    "    dbname=\"si_cooperative_cartoes\",\n",
    "    user=\"admin\",\n",
    "    password=\"admin\",\n",
    "    host=\"localhost\"\n",
    ")\n",
    "cur = conn.cursor()\n",
    "cur.execute(\"select * from bronze.movimento_staging;\")"
   ]
  },
  {
   "cell_type": "code",
   "execution_count": 27,
   "metadata": {},
   "outputs": [
    {
     "data": {
      "text/plain": [
       "[]"
      ]
     },
     "execution_count": 27,
     "metadata": {},
     "output_type": "execute_result"
    }
   ],
   "source": [
    "cur.fetchall()"
   ]
  },
  {
   "cell_type": "code",
   "execution_count": null,
   "metadata": {},
   "outputs": [],
   "source": []
  }
 ],
 "metadata": {
  "kernelspec": {
   "display_name": "Python 3",
   "language": "python",
   "name": "python3"
  },
  "language_info": {
   "codemirror_mode": {
    "name": "ipython",
    "version": 3
   },
   "file_extension": ".py",
   "mimetype": "text/x-python",
   "name": "python",
   "nbconvert_exporter": "python",
   "pygments_lexer": "ipython3",
   "version": "3.9.6"
  }
 },
 "nbformat": 4,
 "nbformat_minor": 2
}
